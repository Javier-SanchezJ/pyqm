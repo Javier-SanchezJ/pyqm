{
 "cells": [
  {
   "cell_type": "markdown",
   "metadata": {
    "cell_id": "00000-02bed928-a705-4cae-bf8a-f786a301963f",
    "deepnote_cell_type": "markdown",
    "tags": []
   },
   "source": [
    "# Week 2: Tutorial"
   ]
  },
  {
   "cell_type": "markdown",
   "metadata": {
    "cell_id": "00005-6a6f2e0a-4e96-4550-94f6-3ac347021b96",
    "deepnote_cell_type": "markdown",
    "tags": []
   },
   "source": [
    "## Exercise 1: Convert Decimal To Ten Bit Binary String\n",
    "\n",
    "In this exercise we want to convert a decimal number to a binary string with exactly ten character bits. For example,\n",
    "\n",
    " $$ 1_{decimal} = 1_{binary} = 0000000001_{binary} $$ \n",
    "\n",
    " or\n",
    "\n",
    "  $$ 10_{decimal} = 1010_{binary} = 0000001010_{binary} $$\n",
    "\n",
    "Create code that converts a decimal to binary, `bin(decimal)`, removes the proceding `0b`, and adds in the required amount of 0s to make it a ten character string. If the binary has more than ten bits, slice the string so it contains only the last 10 bits. Prompt the user with the `input()` function for a decimal number.\n",
    "\n",
    "*Hint:* `bin(decimal)` *returns a string. Can use string manipulation, and a conditional to differentiate between strings with less than or more than ten bits.*"
   ]
  },
  {
   "cell_type": "code",
   "execution_count": 4,
   "metadata": {
    "cell_id": "00003-4a8133ee-2401-4047-928e-353954bc9b6a",
    "deepnote_cell_type": "code",
    "deepnote_to_be_reexecuted": false,
    "execution_millis": 5242,
    "execution_start": 1624624835893,
    "source_hash": "4ebce97f",
    "tags": []
   },
   "outputs": [
    {
     "name": "stdin",
     "output_type": "stream",
     "text": [
      "Enter an integer:  24\n"
     ]
    },
    {
     "name": "stdout",
     "output_type": "stream",
     "text": [
      "Decimal: 24\n",
      "10-bit binary: 0000011000\n"
     ]
    }
   ],
   "source": [
    "decimal = int(input(\"Enter an integer: \"))\n",
    "if decimal < 0:\n",
    "    raise ValueError(\"Number must be non-negative.\")\n",
    "if decimal >= 2**10:\n",
    "    raise ValueError(\"Number too large to represent in 10 bits.\")\n",
    "print(f\"Decimal: {decimal}\")\n",
    "binary = bin(decimal)\n",
    "binary_10bit = bin(decimal)[2:].zfill(10)\n",
    "print(\"10-bit binary:\", binary_10bit)"
   ]
  },
  {
   "cell_type": "markdown",
   "metadata": {
    "cell_id": "00004-0f967908-ea56-4c30-b3e7-8211a547ba95",
    "deepnote_cell_type": "markdown",
    "tags": []
   },
   "source": [
    "If we wanted to make the number of bits an arbitrary amount, rather than just 10, rewrite the code in such a way to accomplish this."
   ]
  },
  {
   "cell_type": "code",
   "execution_count": 6,
   "metadata": {
    "cell_id": "00005-e525407c-206f-4ca0-876e-06357963983c",
    "deepnote_cell_type": "code",
    "deepnote_to_be_reexecuted": false,
    "execution_millis": 11452,
    "execution_start": 1624625002859,
    "source_hash": "ffa7d701",
    "tags": []
   },
   "outputs": [
    {
     "name": "stdin",
     "output_type": "stream",
     "text": [
      "Enter a non-negative integer:  24\n",
      "Enter number of bits to use:  6\n"
     ]
    },
    {
     "name": "stdout",
     "output_type": "stream",
     "text": [
      "24 as a 6-bit binary string is: 011000\n"
     ]
    }
   ],
   "source": [
    "def decimal_to_binary_with_bits(n, bits):\n",
    "    if n < 0:\n",
    "        raise ValueError(\"n must be non-negative\")\n",
    "    if n >= 2**bits:\n",
    "        raise ValueError(f\"n is too large to fit in {bits} bits\")\n",
    "    return format(n, f'0{bits}b')\n",
    "\n",
    "n = int(input(\"Enter a non-negative integer: \").strip())\n",
    "bits = int(input(\"Enter number of bits to use: \").strip())\n",
    "print(f\"{n} as a {bits}-bit binary string is:\", decimal_to_binary_with_bits(n, bits))"
   ]
  },
  {
   "cell_type": "markdown",
   "metadata": {
    "cell_id": "00006-1b21ff2a-197f-41be-ad40-069aa19da779",
    "deepnote_cell_type": "markdown",
    "tags": []
   },
   "source": [
    "Given some arbitrary fixed number of bits, what is the largest decimal number you can represent with those bits? "
   ]
  },
  {
   "cell_type": "code",
   "execution_count": 7,
   "metadata": {
    "cell_id": "00007-bad1bbaf-511c-4e77-b962-e33024078e90",
    "deepnote_cell_type": "code",
    "deepnote_to_be_reexecuted": false,
    "execution_millis": 10,
    "execution_start": 1624624103570,
    "source_hash": "f551c0a",
    "tags": []
   },
   "outputs": [
    {
     "name": "stdin",
     "output_type": "stream",
     "text": [
      "Enter number of bits:  3\n"
     ]
    },
    {
     "name": "stdout",
     "output_type": "stream",
     "text": [
      "With 3 bits you can represent integers from 0 to 7 (inclusive).\n"
     ]
    }
   ],
   "source": [
    "bits = int(input(\"Enter number of bits: \").strip())\n",
    "if bits <= 0:\n",
    "    raise ValueError(\"bits must be positive\")\n",
    "max_value = 2**bits - 1\n",
    "print(f\"With {bits} bits you can represent integers from 0 to {max_value} (inclusive).\")"
   ]
  },
  {
   "cell_type": "markdown",
   "metadata": {
    "cell_id": "00008-be83c5e7-f89f-4e23-acc3-fa520126e77c",
    "deepnote_cell_type": "markdown",
    "tags": []
   },
   "source": [
    "## Exercise 2: For Loops, Sequence Sum\n",
    "\n",
    "Prompt the user to input a positive integer number $n$. Calculate the sum $$1+2+3+...+n $$ using a for loop. Print the answer"
   ]
  },
  {
   "cell_type": "code",
   "execution_count": 9,
   "metadata": {},
   "outputs": [
    {
     "name": "stdin",
     "output_type": "stream",
     "text": [
      "Enter an integer n:  4\n"
     ]
    },
    {
     "name": "stdout",
     "output_type": "stream",
     "text": [
      "Sum using for-loop from 1 to 4 is: 10\n"
     ]
    }
   ],
   "source": [
    "n = int(input(\"Enter an integer n: \").strip())\n",
    "if n < 1:\n",
    "    raise ValueError(\"n must be >= 1\")\n",
    "total = 0\n",
    "for i in range(1, n+1):\n",
    "    total += i\n",
    "print(f\"Sum using for-loop from 1 to {n} is: {total}\")"
   ]
  },
  {
   "cell_type": "markdown",
   "metadata": {
    "cell_id": "00010-7e5952bc-a05b-441d-af41-7799925b06c8",
    "deepnote_cell_type": "markdown",
    "tags": []
   },
   "source": [
    "Alternatively, we could use the formula $$1+2+3+...+n = \\frac{n(n+1)}{2}$$. Check to see our for loop returns the value obtained from the formula. Print a Boolean answer."
   ]
  },
  {
   "cell_type": "code",
   "execution_count": 10,
   "metadata": {
    "cell_id": "00011-b8b03db6-14c8-4fa2-9053-16bc5c8dc793",
    "deepnote_cell_type": "code",
    "deepnote_to_be_reexecuted": false,
    "execution_millis": 4634,
    "execution_start": 1624626259471,
    "source_hash": "35d99a26",
    "tags": []
   },
   "outputs": [
    {
     "name": "stdin",
     "output_type": "stream",
     "text": [
      "Enter the same positive integer n again:  4\n"
     ]
    },
    {
     "name": "stdout",
     "output_type": "stream",
     "text": [
      "Formula n(n+1)/2 gives: 10\n"
     ]
    }
   ],
   "source": [
    "n = int(input(\"Enter the same positive integer n again: \").strip())\n",
    "if n < 1:\n",
    "    raise ValueError(\"n must be >= 1\")\n",
    "formula = n * (n + 1) // 2\n",
    "print(f\"Formula n(n+1)/2 gives: {formula}\")"
   ]
  },
  {
   "cell_type": "markdown",
   "metadata": {
    "cell_id": "00012-260a1fd2-b9b3-4bae-bf0d-62171ddc35e0",
    "deepnote_cell_type": "markdown",
    "tags": []
   },
   "source": [
    "## Exercise 3: While Loops, Reverse A Given Number\n",
    "\n",
    "Prompt the user to input a positive integer number and reverse the number. For example: $$ 257864 \\rightarrow 468752 $$ \n",
    "\n",
    "(Hint: 257864 % 10 = 4)"
   ]
  },
  {
   "cell_type": "code",
   "execution_count": 11,
   "metadata": {},
   "outputs": [
    {
     "name": "stdin",
     "output_type": "stream",
     "text": [
      "Enter a positive integer to reverse:  123456789\n"
     ]
    },
    {
     "name": "stdout",
     "output_type": "stream",
     "text": [
      "Original: 123456789  -> Reversed: 987654321\n"
     ]
    }
   ],
   "source": [
    "n = int(input(\"Enter a positive integer to reverse: \").strip())\n",
    "if n < 0:\n",
    "    raise ValueError(\"Please enter a non-negative integer.\")\n",
    "original = n\n",
    "reversed_n = 0\n",
    "while n > 0:\n",
    "    digit = n % 10\n",
    "    reversed_n = reversed_n * 10 + digit\n",
    "    n //= 10\n",
    "print(f\"Original: {original}  -> Reversed: {reversed_n}\")"
   ]
  },
  {
   "cell_type": "markdown",
   "metadata": {
    "cell_id": "00014-28951a3c-5d31-4939-b230-caba0222b9fd",
    "deepnote_cell_type": "markdown",
    "tags": []
   },
   "source": [
    "## Exercise 4: List Comprehensions\n",
    "\n",
    "Create a list of all the even numbers from 0 $\\rightarrow$ 1000 that are not divisible by 4."
   ]
  },
  {
   "cell_type": "code",
   "execution_count": 13,
   "metadata": {
    "cell_id": "00015-b0fe9d20-d77a-4ab0-a3ae-6e0453f629b6",
    "deepnote_cell_type": "code",
    "deepnote_to_be_reexecuted": false,
    "execution_millis": 1,
    "execution_start": 1624887079369,
    "source_hash": "a665de46",
    "tags": []
   },
   "outputs": [
    {
     "name": "stdout",
     "output_type": "stream",
     "text": [
      "Number of even numbers not divisible by 4 between 0 and 1000: 250\n"
     ]
    }
   ],
   "source": [
    "evens = [i for i in range(0, 1001) if (i % 2 == 0 and i % 4 != 0)]\n",
    "print(f\"Number of even numbers not divisible by 4 between 0 and 1000: {len(evens)}\")"
   ]
  },
  {
   "cell_type": "markdown",
   "metadata": {
    "cell_id": "00016-adf0bceb-b5d9-41e2-8fd5-9bd47d8f28b2",
    "deepnote_cell_type": "markdown",
    "tags": []
   },
   "source": [
    "A year is a leap year when it is divisible by 4, not divisible by 100 unless it is divisible by 400. Create a list containing leap years from year $1890 \\rightarrow 2050$"
   ]
  },
  {
   "cell_type": "code",
   "execution_count": 16,
   "metadata": {
    "cell_id": "00016-8e7bef0f-7161-4ee9-b9c7-1b82145a6b93",
    "deepnote_cell_type": "code",
    "deepnote_to_be_reexecuted": false,
    "execution_millis": 7,
    "execution_start": 1624889493881,
    "source_hash": "14117288",
    "tags": []
   },
   "outputs": [
    {
     "name": "stdout",
     "output_type": "stream",
     "text": [
      "Leap years between 1890 and 2050 (inclusive):\n",
      "[1892, 1896, 1904, 1908, 1912, 1916, 1920, 1924, 1928, 1932, 1936, 1940, 1944, 1948, 1952, 1956, 1960, 1964, 1968, 1972, 1976, 1980, 1984, 1988, 1992, 1996, 2000, 2004, 2008, 2012, 2016, 2020, 2024, 2028, 2032, 2036, 2040, 2044, 2048]\n"
     ]
    }
   ],
   "source": [
    "def is_leap_year(year):\n",
    "    return (year % 4 == 0) and (year % 100 != 0 or year % 400 == 0)\n",
    "leap_years = [y for y in range(1890, 2051) if is_leap_year(y)]\n",
    "print(\"Leap years between 1890 and 2050 (inclusive):\")\n",
    "print(leap_years)"
   ]
  },
  {
   "cell_type": "markdown",
   "metadata": {},
   "source": [
    "Make a list of all the primes less than 100."
   ]
  },
  {
   "cell_type": "code",
   "execution_count": 17,
   "metadata": {},
   "outputs": [
    {
     "name": "stdout",
     "output_type": "stream",
     "text": [
      "Primes less than 100:\n",
      "[2, 3, 5, 7, 11, 13, 17, 19, 23, 29, 31, 37, 41, 43, 47, 53, 59, 61, 67, 71, 73, 79, 83, 89, 97]\n"
     ]
    }
   ],
   "source": [
    "def is_prime_trial(n):\n",
    "    \"\"\"Return True if n is prime using trial division only.\"\"\"\n",
    "    if n <= 1:\n",
    "        return False\n",
    "    if n == 2:\n",
    "        return True\n",
    "    if n % 2 == 0:\n",
    "        return False\n",
    "    limit = int(n ** 0.5)\n",
    "    for d in range(3, limit + 1, 2):\n",
    "        if n % d == 0:\n",
    "            return False\n",
    "    return True\n",
    "\n",
    "primes_under_100 = [x for x in range(2, 100) if is_prime_trial(x)]\n",
    "print(\"Primes less than 100:\")\n",
    "print(primes_under_100)"
   ]
  },
  {
   "cell_type": "markdown",
   "metadata": {
    "cell_id": "00016-6f5209e4-d25b-48a3-99ea-6198f23b1c4d",
    "deepnote_cell_type": "markdown",
    "tags": []
   },
   "source": [
    "## Exercise 5: DNA\n",
    "\n",
    "Read in the file named 'DNA.txt' and count the number of times the base C occurs. A DNA sequence contains bases A,C,G and T."
   ]
  },
  {
   "cell_type": "code",
   "execution_count": 25,
   "metadata": {
    "cell_id": "00021-039bb306-ff53-48ac-b7de-335f29e5b986",
    "deepnote_cell_type": "code",
    "deepnote_to_be_reexecuted": false,
    "execution_millis": 10,
    "execution_start": 1624999994006,
    "source_hash": "6b579f38",
    "tags": []
   },
   "outputs": [
    {
     "name": "stdout",
     "output_type": "stream",
     "text": [
      "Total characters read: 5616\n",
      "Number of 'C' bases: 1452\n"
     ]
    }
   ],
   "source": [
    "filename = \"DNA.txt\"\n",
    "\n",
    "try:\n",
    "    with open(filename, 'r') as f:\n",
    "        data = f.read().replace('\\n', '')  # remove only newlines\n",
    "except FileNotFoundError:\n",
    "    raise FileNotFoundError(f\"File '{filename}' not found in the current directory.\")\n",
    "\n",
    "total_chars = len(data)\n",
    "count_C = data.count('C')\n",
    "\n",
    "print(f\"Total characters read: {total_chars}\")\n",
    "print(f\"Number of 'C' bases: {count_C}\")"
   ]
  },
  {
   "cell_type": "markdown",
   "metadata": {},
   "source": [
    "## Exercise 6: Collatz Conjecture\n",
    "If we take any positive integer and if it's even divide it by two and if it's odd multiply it by three and add one. Do this successivly again and again. Verify that we always get back to 1."
   ]
  },
  {
   "cell_type": "code",
   "execution_count": 21,
   "metadata": {},
   "outputs": [
    {
     "name": "stdin",
     "output_type": "stream",
     "text": [
      "Enter a positive integer to test Collatz:  347\n"
     ]
    },
    {
     "name": "stdout",
     "output_type": "stream",
     "text": [
      "Collatz sequence starting at 347:\n",
      "[347, 1042, 521, 1564, 782, 391, 1174, 587, 1762, 881, 2644, 1322, 661, 1984, 992, 496, 248, 124, 62, 31, 94, 47, 142, 71, 214, 107, 322, 161, 484, 242, 121, 364, 182, 91, 274, 137, 412, 206, 103, 310, 155, 466, 233, 700, 350, 175, 526, 263, 790, 395, 1186, 593, 1780, 890, 445, 1336, 668, 334, 167, 502, 251, 754, 377, 1132, 566, 283, 850, 425, 1276, 638, 319, 958, 479, 1438, 719, 2158, 1079, 3238, 1619, 4858, 2429, 7288, 3644, 1822, 911, 2734, 1367, 4102, 2051, 6154, 3077, 9232, 4616, 2308, 1154, 577, 1732, 866, 433, 1300, 650, 325, 976, 488, 244, 122, 61, 184, 92, 46, 23, 70, 35, 106, 53, 160, 80, 40, 20, 10, 5, 16, 8, 4, 2, 1]\n",
      "Steps to reach 1: 125\n"
     ]
    }
   ],
   "source": [
    "def collatz_sequence(n):\n",
    "    if n <= 0:\n",
    "        raise ValueError(\"n must be a positive integer\")\n",
    "    seq = [n]\n",
    "    while n != 1:\n",
    "        if n % 2 == 0:\n",
    "            n = n // 2\n",
    "        else:\n",
    "            n = 3 * n + 1\n",
    "        seq.append(n)\n",
    "    return seq\n",
    "\n",
    "start = int(input(\"Enter a positive integer to test Collatz: \"))\n",
    "seq = collatz_sequence(start)\n",
    "print(f\"Collatz sequence starting at {start}:\")\n",
    "print(seq)\n",
    "print(f\"Steps to reach 1: {len(seq)-1}\")"
   ]
  },
  {
   "cell_type": "markdown",
   "metadata": {},
   "source": [
    "## Exercise 7: Fizz Buzz\n",
    "Print out numbers in order. Every time there is a multiple of 3 print 'Fizz' instead. Every time there is a multiple of 5 print 'Buzz'. Every time there is both print 'Fizz Buzz'."
   ]
  },
  {
   "cell_type": "code",
   "execution_count": 22,
   "metadata": {},
   "outputs": [
    {
     "name": "stdout",
     "output_type": "stream",
     "text": [
      "1\n",
      "2\n",
      "Fizz\n",
      "4\n",
      "Buzz\n",
      "Fizz\n",
      "7\n",
      "8\n",
      "Fizz\n",
      "Buzz\n",
      "11\n",
      "Fizz\n",
      "13\n",
      "14\n",
      "Fizz Buzz\n",
      "16\n",
      "17\n",
      "Fizz\n",
      "19\n",
      "Buzz\n",
      "Fizz\n",
      "22\n",
      "23\n",
      "Fizz\n",
      "Buzz\n",
      "26\n",
      "Fizz\n",
      "28\n",
      "29\n",
      "Fizz Buzz\n",
      "31\n",
      "32\n",
      "Fizz\n",
      "34\n",
      "Buzz\n",
      "Fizz\n",
      "37\n",
      "38\n",
      "Fizz\n",
      "Buzz\n",
      "41\n",
      "Fizz\n",
      "43\n",
      "44\n",
      "Fizz Buzz\n",
      "46\n",
      "47\n",
      "Fizz\n",
      "49\n",
      "Buzz\n",
      "Fizz\n",
      "52\n",
      "53\n",
      "Fizz\n",
      "Buzz\n",
      "56\n",
      "Fizz\n",
      "58\n",
      "59\n",
      "Fizz Buzz\n",
      "61\n",
      "62\n",
      "Fizz\n",
      "64\n",
      "Buzz\n",
      "Fizz\n",
      "67\n",
      "68\n",
      "Fizz\n",
      "Buzz\n",
      "71\n",
      "Fizz\n",
      "73\n",
      "74\n",
      "Fizz Buzz\n",
      "76\n",
      "77\n",
      "Fizz\n",
      "79\n",
      "Buzz\n",
      "Fizz\n",
      "82\n",
      "83\n",
      "Fizz\n",
      "Buzz\n",
      "86\n",
      "Fizz\n",
      "88\n",
      "89\n",
      "Fizz Buzz\n",
      "91\n",
      "92\n",
      "Fizz\n",
      "94\n",
      "Buzz\n",
      "Fizz\n",
      "97\n",
      "98\n",
      "Fizz\n",
      "Buzz\n"
     ]
    }
   ],
   "source": [
    "for i in range(1, 101):\n",
    "    out = \"\"\n",
    "    if i % 3 == 0:\n",
    "        out += \"Fizz\"\n",
    "    if i % 5 == 0:\n",
    "        if out:\n",
    "            out += \" \"\n",
    "        out += \"Buzz\"\n",
    "    print(out or i)"
   ]
  },
  {
   "cell_type": "code",
   "execution_count": null,
   "metadata": {},
   "outputs": [],
   "source": []
  }
 ],
 "metadata": {
  "deepnote": {
   "is_reactive": false
  },
  "deepnote_execution_queue": [],
  "deepnote_notebook_id": "306c39d2-aca8-4e42-8856-f5e25ad02ff5",
  "kernelspec": {
   "display_name": "Python 3 (ipykernel)",
   "language": "python",
   "name": "python3"
  },
  "language_info": {
   "codemirror_mode": {
    "name": "ipython",
    "version": 3
   },
   "file_extension": ".py",
   "mimetype": "text/x-python",
   "name": "python",
   "nbconvert_exporter": "python",
   "pygments_lexer": "ipython3",
   "version": "3.10.18"
  }
 },
 "nbformat": 4,
 "nbformat_minor": 4
}
