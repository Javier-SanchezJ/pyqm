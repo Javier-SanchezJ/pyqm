{
 "cells": [
  {
   "cell_type": "code",
   "execution_count": 1,
   "id": "1647e69c-4155-4939-b055-d3171f82c2a3",
   "metadata": {},
   "outputs": [
    {
     "name": "stdout",
     "output_type": "stream",
     "text": [
      "0\n",
      "15\n",
      "Hello, world!\n",
      "7.0\n"
     ]
    }
   ],
   "source": [
    "a=0\n",
    "print(a)\n",
    "\n",
    "a=3*5\n",
    "print(a)\n",
    "\n",
    "b=\"Hello, world!\"\n",
    "print(b)\n",
    "\n",
    "c=5/0.7142857142857143\n",
    "print(c)"
   ]
  },
  {
   "cell_type": "code",
   "execution_count": 2,
   "id": "981421f0-8d4b-42b2-9dac-6ca1a40d2130",
   "metadata": {},
   "outputs": [
    {
     "name": "stdout",
     "output_type": "stream",
     "text": [
      "Which type of variable are each of them? \n",
      "variable a is  <class 'int'>\n",
      "variable b is  <class 'str'>\n",
      "variable c is  <class 'float'>\n"
     ]
    }
   ],
   "source": [
    "print(\"Which type of variable are each of them? \")\n",
    "print(\"variable a is \", type(a))\n",
    "print(\"variable b is \", type(b))\n",
    "print(\"variable c is \", type(c))"
   ]
  },
  {
   "cell_type": "code",
   "execution_count": 5,
   "id": "4e1de4f6-4994-467b-b419-4dd7ee39b106",
   "metadata": {},
   "outputs": [
    {
     "name": "stdout",
     "output_type": "stream",
     "text": [
      "1\n",
      "<class 'int'>\n",
      "1.0\n",
      "<class 'float'>\n"
     ]
    }
   ],
   "source": [
    "a=int(1)\n",
    "b=float(1)\n",
    "\n",
    "print(a)\n",
    "print(type(a))\n",
    "print(b)\n",
    "print(type(b))"
   ]
  },
  {
   "cell_type": "code",
   "execution_count": 6,
   "id": "af4e1bac-c225-4167-b0f0-bedb25402243",
   "metadata": {},
   "outputs": [
    {
     "name": "stdout",
     "output_type": "stream",
     "text": [
      "4\n",
      "4.6\n"
     ]
    }
   ],
   "source": [
    "print(abs(-4))\n",
    "print(abs(4.6))"
   ]
  },
  {
   "cell_type": "code",
   "execution_count": 9,
   "id": "611d3bd9-6521-4450-838e-746e737712bb",
   "metadata": {},
   "outputs": [
    {
     "name": "stdout",
     "output_type": "stream",
     "text": [
      "1.32e+18\n",
      "1.32e+18\n"
     ]
    }
   ],
   "source": [
    "sci = 12e+17 + 12e+16\n",
    "print(sci)\n",
    "sci2 = 12.0e+17 + 12.0e+16\n",
    "print(sci2)"
   ]
  },
  {
   "cell_type": "code",
   "execution_count": 10,
   "id": "dc6b0801-0b90-4dd3-b295-76370fa436b6",
   "metadata": {},
   "outputs": [
    {
     "name": "stdout",
     "output_type": "stream",
     "text": [
      "<class 'complex'>\n",
      "(5-13j)\n",
      "(52-61j)\n",
      "\n",
      "5.0\n",
      "\n",
      "4.0\n",
      "-16.0\n"
     ]
    }
   ],
   "source": [
    "z = 4 + 3j\n",
    "w = 1 - 16j\n",
    "\n",
    "print(type(z))\n",
    "print(z + w)\n",
    "print(z * w)\n",
    "\n",
    "print() # just to seperate out our results\n",
    "\n",
    "print(abs(z)) # the abs() function takes the modulus of the complex number\n",
    "\n",
    "print()\n",
    "\n",
    "print(z.real) # returns the real part of z\n",
    "print(w.imag) # returns the complex part of w"
   ]
  },
  {
   "cell_type": "code",
   "execution_count": 11,
   "id": "7251a25c-3a74-4675-9140-83b6c71d90c8",
   "metadata": {},
   "outputs": [
    {
     "name": "stdout",
     "output_type": "stream",
     "text": [
      "<class 'str'>\n",
      "how are you?\n",
      "hello, how are you?\n",
      "hello hello hello \n",
      "hello,\n",
      "how are you?\n"
     ]
    }
   ],
   "source": [
    "word = 'hello'\n",
    "phrase = 'how are you?'\n",
    "\n",
    "whole = word + ', ' + phrase\n",
    "\n",
    "print(type(word))\n",
    "print(phrase)\n",
    "print(whole)\n",
    "\n",
    "print((word + ' ')*3)\n",
    "\n",
    "print('hello,\\nhow are you?')"
   ]
  },
  {
   "cell_type": "code",
   "execution_count": 14,
   "id": "fb50f549-b898-4893-8af1-e437a908b083",
   "metadata": {},
   "outputs": [
    {
     "name": "stdout",
     "output_type": "stream",
     "text": [
      "the state was found to be in the up state with probability 0.82\n"
     ]
    }
   ],
   "source": [
    "state = 'up'\n",
    "prob = .8152\n",
    "\n",
    "text = 'the state was found to be in the %s state with probability %.2f' % (state, prob)\n",
    "\n",
    "print(text)\n",
    "#we also have f-strings and concatenations with the ',' in the print()"
   ]
  },
  {
   "cell_type": "code",
   "execution_count": 15,
   "id": "fb34dd54-f4b5-44ea-90b3-4ae75e81db07",
   "metadata": {},
   "outputs": [
    {
     "name": "stdout",
     "output_type": "stream",
     "text": [
      "h\n"
     ]
    }
   ],
   "source": [
    "word = 'hello'\n",
    "\n",
    "letter = word[0] \n",
    "# notice that in python numbering starts at 0, \n",
    "# this notation will be discussed further in the next section on data structures\n",
    "\n",
    "print(letter)"
   ]
  },
  {
   "cell_type": "code",
   "execution_count": 16,
   "id": "97321b6a-6467-4a55-a095-e5516682202b",
   "metadata": {},
   "outputs": [
    {
     "name": "stdout",
     "output_type": "stream",
     "text": [
      "this is\n",
      "\n",
      "\n",
      "hello, this is\n",
      "this is a longer string\n",
      "\n",
      "\n",
      "ti s\n",
      "gnirts regnol a si siht ,olleh\n"
     ]
    }
   ],
   "source": [
    "longer_string = 'hello, this is a longer string'\n",
    "\n",
    "print(longer_string[7:14]) \n",
    "# slices off the section between character 7 (including) \n",
    "# and 14 (not including) \n",
    "\n",
    "print('\\n') # just to seperate our outputs a bit\n",
    "\n",
    "print(longer_string[:14]) \n",
    "print(longer_string[7:]) \n",
    "# if the first or second argument is neglected \n",
    "# the default value will be 0 and the end of \n",
    "# the string respectively.\n",
    "\n",
    "print('\\n')\n",
    "\n",
    "print(longer_string[7:14:2]) # skips every second character, so prints 7, 9, 11, and 13\n",
    "\n",
    "print(longer_string[::-1]) # prints backwards "
   ]
  },
  {
   "cell_type": "code",
   "execution_count": 17,
   "id": "54d9eaf7-58b8-4412-8b4c-8af6d2b2a378",
   "metadata": {},
   "outputs": [
    {
     "name": "stdout",
     "output_type": "stream",
     "text": [
      "this\n"
     ]
    }
   ],
   "source": [
    "print(longer_string.split()[1])"
   ]
  },
  {
   "cell_type": "code",
   "execution_count": 20,
   "id": "21f83361-d843-4119-ba2d-876fe6abdf3d",
   "metadata": {},
   "outputs": [
    {
     "name": "stdout",
     "output_type": "stream",
     "text": [
      "1\n"
     ]
    },
    {
     "data": {
      "text/plain": [
       "1"
      ]
     },
     "execution_count": 20,
     "metadata": {},
     "output_type": "execute_result"
    }
   ],
   "source": [
    "print(a)\n",
    "a #this only works in a python notebook, but in a pure python script it would not work"
   ]
  },
  {
   "cell_type": "code",
   "execution_count": 21,
   "id": "5a0e821a-97f7-4ce3-9ca3-5e1fd72ff963",
   "metadata": {},
   "outputs": [
    {
     "name": "stdout",
     "output_type": "stream",
     "text": [
      "<class 'NoneType'>\n",
      "False\n",
      "False\n",
      "False\n",
      "True\n"
     ]
    }
   ],
   "source": [
    "print(type(None))\n",
    "print(None == False)\n",
    "print(None == 0)\n",
    "print(None == '')\n",
    "print(None == None)"
   ]
  },
  {
   "cell_type": "code",
   "execution_count": 22,
   "id": "62bbf113-da9a-40ed-a838-b80f4ba19fe1",
   "metadata": {},
   "outputs": [
    {
     "name": "stdout",
     "output_type": "stream",
     "text": [
      "<class 'tuple'>\n",
      "(4.1, 6.626e-34, -3, 6.6)\n",
      "-3\n",
      "x = 4.1\n",
      "y = 6.626e-34\n",
      "z = -3\n",
      "q = 6.6\n"
     ]
    }
   ],
   "source": [
    "mytuple = (4.1, 6.626e-34, -3, 6.6)\n",
    "\n",
    "print(type(mytuple))\n",
    "print(mytuple)\n",
    "print(mytuple[2])\n",
    "\n",
    "x, y, z, q = mytuple\n",
    "\n",
    "print(\"x =\", x) # can print muplitple things with spaces between them in this way\n",
    "print(\"y =\", y)\n",
    "print(\"z =\", z)\n",
    "print(\"q =\", q)"
   ]
  },
  {
   "cell_type": "code",
   "execution_count": 24,
   "id": "6d8d7449-6ccd-4abf-9841-3ce451db18cd",
   "metadata": {},
   "outputs": [
    {
     "name": "stdout",
     "output_type": "stream",
     "text": [
      "{1.0, 5.0, 7.0, 8.0, 9.0}\n",
      "{9.0, 7.0}\n",
      "{8.0}\n",
      "{1.0, 5.0, 8.0}\n",
      "False\n",
      "False\n",
      "False\n"
     ]
    }
   ],
   "source": [
    "#Sets\n",
    "L = [7.0,8.0,9.0] #Is a list\n",
    "M = {1.0,5.0,9.0,7.0} #Is a set\n",
    "\n",
    "L = set(L) #recasting list as a set with the same elements\n",
    "\n",
    "un = L.union(M)#Returns a union set of the two sets\n",
    "inter = L.intersection(M)#Returns the intersection of the two sets\n",
    "\n",
    "print(un)\n",
    "print(inter)\n",
    "\n",
    "print(L.difference(M))#Returns elements in L that are not in the M\n",
    "\n",
    "print(L.symmetric_difference(M))#Returns elements that are only in one of the sets\n",
    "\n",
    "print(L.issubset(M))#Checks if L is a subset of the M\n",
    "\n",
    "print(L.isdisjoint(M))#Checks if L is a disjoint of the M\n",
    "\n",
    "print(L.issuperset(M))#Checks if L is a superset of the M"
   ]
  },
  {
   "cell_type": "code",
   "execution_count": 25,
   "id": "ef056b9a-eb61-44f5-b128-838842df6824",
   "metadata": {},
   "outputs": [
    {
     "name": "stdout",
     "output_type": "stream",
     "text": [
      "An exception occurred.\n"
     ]
    }
   ],
   "source": [
    "#For indentation NO TAB, instead 4 spaces\n",
    "try:\n",
    "    # Code that may raise an exception\n",
    "    x = 3 / 0\n",
    "    print(x)\n",
    "except:\n",
    "    # exception occurs, if code under try throws error\n",
    "    print(\"An exception occurred.\")"
   ]
  },
  {
   "cell_type": "code",
   "execution_count": 26,
   "id": "5ab7c4b7-bb4d-46c6-ac97-14ca1ca99724",
   "metadata": {},
   "outputs": [
    {
     "name": "stdout",
     "output_type": "stream",
     "text": [
      "<class 'zip'>\n",
      "((1, 'one'), (2, 'two'), (3, 'three'))\n"
     ]
    }
   ],
   "source": [
    "a = [1,2,3,4] # doesn't matter if these are tuples or lists\n",
    "b = ('one', 'two', 'three')\n",
    "\n",
    "c = zip(a,b)\n",
    "\n",
    "print(type(c))\n",
    "\n",
    "print(tuple(c)) # we can't directly print zip type objects so we cast them into a \n",
    "#tuple (or list) to see their contents"
   ]
  },
  {
   "cell_type": "code",
   "execution_count": 27,
   "id": "3b11a2a4-1f9a-4645-aeca-037db1682460",
   "metadata": {},
   "outputs": [
    {
     "name": "stdout",
     "output_type": "stream",
     "text": [
      "Alice, 25, lives in New York.\n",
      "Bob, 30, lives in San Francisco.\n",
      "Charlie, 35, lives in Chicago.\n"
     ]
    }
   ],
   "source": [
    "names = [\"Alice\", \"Bob\", \"Charlie\"]\n",
    "ages = [25, 30, 35]\n",
    "cities = [\"New York\", \"San Francisco\", \"Chicago\", \"Lisbon\"] # Notice cities has an extra element\n",
    "\n",
    "# Zipping three lists\n",
    "for name, age, city in zip(names, ages, cities):\n",
    "  print(f\"{name}, {age}, lives in {city}.\")"
   ]
  },
  {
   "cell_type": "code",
   "execution_count": 28,
   "id": "1dd77c9f-24a7-4966-a1dc-5ea8c69167e3",
   "metadata": {},
   "outputs": [
    {
     "name": "stdout",
     "output_type": "stream",
     "text": [
      "planck -> 6.62607015e-34\n",
      "speed of light -> 299792458\n",
      "pi -> 3.14159265359\n",
      "\n",
      "\n",
      "planck -> 6.62607015e-34\n",
      "speed of light -> 299792458\n",
      "pi -> 3.14159265359\n"
     ]
    }
   ],
   "source": [
    "QM_Constants = {\n",
    "    'planck' : 6.62607015e-34,\n",
    "    'speed of light' : 299792458,\n",
    "    'pi' : 3.14159265359}\n",
    "\n",
    "for i in QM_Constants: # will iterate over keys of the dictionary\n",
    "    print(i,'->',QM_Constants[i])\n",
    "\n",
    "print('\\n')\n",
    "\n",
    "for i,j in QM_Constants.items(): # .items() makes the dictionary an iterator of two object tuples\n",
    "    print(i,'->',j)"
   ]
  },
  {
   "cell_type": "code",
   "execution_count": 29,
   "id": "f9d60362-8a9e-4dd9-ae70-7084b22c35d7",
   "metadata": {},
   "outputs": [],
   "source": [
    "#Examples of compact coding"
   ]
  },
  {
   "cell_type": "code",
   "execution_count": 31,
   "id": "423ffc44-e07e-4e9a-8541-92b2bc11fcbe",
   "metadata": {},
   "outputs": [
    {
     "name": "stdout",
     "output_type": "stream",
     "text": [
      "a is less than b\n",
      "a is less than b\n"
     ]
    }
   ],
   "source": [
    "a = 10\n",
    "b = 20\n",
    "\n",
    "if a < b:\n",
    "    c='less than'\n",
    "elif a>b:\n",
    "    c='greater than'\n",
    "else:\n",
    "    c='equal to'\n",
    "    \n",
    "print('a is', c, 'b')\n",
    "\n",
    "# Using one-line if-elif-else\n",
    "\n",
    "print('a is', 'less than' if a<b else 'greater than' if a>b else 'equal to', 'b')\n"
   ]
  },
  {
   "cell_type": "code",
   "execution_count": 32,
   "id": "3846fb9e-5f47-484b-a8b4-6d58f5e945e2",
   "metadata": {},
   "outputs": [
    {
     "name": "stdout",
     "output_type": "stream",
     "text": [
      "apple\n",
      "banana\n",
      "cherry\n",
      "apple\n",
      "banana\n",
      "cherry\n"
     ]
    },
    {
     "data": {
      "text/plain": [
       "[None, None, None]"
      ]
     },
     "execution_count": 32,
     "metadata": {},
     "output_type": "execute_result"
    }
   ],
   "source": [
    "fruits = [\"apple\", \"banana\", \"cherry\"]\n",
    "for fruit in fruits:\n",
    "    print(fruit)\n",
    "# Using one-line for loop\n",
    "[print(fruit) for fruit in fruits]"
   ]
  },
  {
   "cell_type": "code",
   "execution_count": 33,
   "id": "11045762-35cc-4dca-9fd9-cb5bce8651a2",
   "metadata": {},
   "outputs": [
    {
     "name": "stdout",
     "output_type": "stream",
     "text": [
      "[0, 1, 2, 3, 4, 5, 6, 7, 8, 9, 10]\n",
      "[0, 1, 2, 3, 4, 5, 6, 7, 8, 9, 10]\n"
     ]
    }
   ],
   "source": [
    "# Traditional way to create a list\n",
    "l=[]\n",
    "for i in range(11):\n",
    "    l.append(i)  \n",
    "print(l)\n",
    "\n",
    "# Using list comprehension\n",
    "l = [i for i in range(11)]\n",
    "print(l)"
   ]
  },
  {
   "cell_type": "code",
   "execution_count": 35,
   "id": "5a7e7baf-ee53-4125-849f-328f0db26fd3",
   "metadata": {},
   "outputs": [
    {
     "name": "stdout",
     "output_type": "stream",
     "text": [
      "[0, 2, 4, 6, 8, 10]\n",
      "[0, 'two', 4, 'six', 8, 'ten']\n",
      "{0, 1, 2}\n",
      "{0: 'zero', 2: 'two', 4: 'four', 6: 'six', 8: 'eight', 10: 'ten'}\n",
      "d = {'zero': 0, 'one': 1, 'two': 2, 'three': 3, 'four': 4, 'five': 5, 'six': 6, 'seven': 7, 'eight': 8, 'nine': 9, 'ten': 10}\n",
      "d_even = {'zero': 0, 'two': 2, 'four': 4, 'six': 6, 'eight': 8, 'ten': 10}\n"
     ]
    }
   ],
   "source": [
    "# List comprehension with a condition\n",
    "l = [i for i in range(11) if i%2==0]\n",
    "print(l)\n",
    "\n",
    "# Another example\n",
    "words = ['zero','one','two','three','four','five','six','seven','eight','nine','ten']\n",
    "l = [i if i%4==0 else words[i] for i in range(11) if i%2==0]\n",
    "print(l)\n",
    "\n",
    "# Example using set comprehension\n",
    "s = {i%3 for i in range(30)}\n",
    "print(s)\n",
    "\n",
    "# Example using dictionary comprehension\n",
    "d = {i:words[i] for i in range(11) if i%2==0}\n",
    "print(d)\n",
    "\n",
    "# Another example using dictionary comprehension\n",
    "nums = [i for i in range(11)]\n",
    "d = {word:num for word,num in zip(words,nums)}\n",
    "print('d =',d)\n",
    "d_even = {word:num for word,num in d.items() if num%2==0}\n",
    "print('d_even =',d_even)\n",
    "\n",
    "\n",
    "#### Take a slower look to these examples"
   ]
  },
  {
   "cell_type": "code",
   "execution_count": 36,
   "id": "4d7a2597-3926-46f4-b9a5-f7f751a0ea72",
   "metadata": {},
   "outputs": [
    {
     "name": "stdin",
     "output_type": "stream",
     "text": [
      "Enter your name:  Javier\n"
     ]
    },
    {
     "name": "stdout",
     "output_type": "stream",
     "text": [
      "Hello, Javier\n"
     ]
    }
   ],
   "source": [
    "name = input(\"Enter your name: \")\n",
    "print(\"Hello, \" + name)"
   ]
  },
  {
   "cell_type": "code",
   "execution_count": 37,
   "id": "9d5de111-c8f8-4ccb-8fe0-4dcdada33484",
   "metadata": {},
   "outputs": [
    {
     "name": "stdin",
     "output_type": "stream",
     "text": [
      "Enter your name:  Javier\n"
     ]
    }
   ],
   "source": [
    "name = input('Enter your name: ')"
   ]
  },
  {
   "cell_type": "code",
   "execution_count": 38,
   "id": "f05ef95b-d6e3-4052-a408-cbabff89284b",
   "metadata": {},
   "outputs": [
    {
     "name": "stdin",
     "output_type": "stream",
     "text": [
      "enter space seperated integers:  3 4 6 8 7 4 6\n"
     ]
    },
    {
     "name": "stdout",
     "output_type": "stream",
     "text": [
      "[3, 4, 6, 8, 7, 4, 6]\n"
     ]
    }
   ],
   "source": [
    "entry = input('enter space seperated integers: ')\n",
    "\n",
    "l = entry.split()\n",
    "\n",
    "for i in range(len(l)):\n",
    "    l[i] = int(l[i])\n",
    "\n",
    "print(l)"
   ]
  },
  {
   "cell_type": "code",
   "execution_count": 42,
   "id": "66d12350-4343-4a0d-b9ec-95f39b9a2f1d",
   "metadata": {},
   "outputs": [
    {
     "name": "stdout",
     "output_type": "stream",
     "text": [
      "<class 'str'>\n",
      "Hello!\n",
      "You are reading this text file.\n",
      "This file has a number of lines of text.\n",
      "\n",
      "Also some empty lines.\n",
      "\n",
      "\n",
      "\n",
      "Thanks for reading!\n"
     ]
    }
   ],
   "source": [
    "with open('test.txt', 'r') as f:\n",
    "    data = f.read()\n",
    "print(type(data))\n",
    "print(data)\n",
    "# r is for reading\n",
    "# w would br for writing"
   ]
  },
  {
   "cell_type": "code",
   "execution_count": 41,
   "id": "9b043ddd-9363-4844-86c6-ab086ad46aed",
   "metadata": {},
   "outputs": [
    {
     "name": "stdout",
     "output_type": "stream",
     "text": [
      "H\n",
      "e\n",
      "l\n",
      "l\n",
      "o\n",
      "!\n",
      "\n",
      "\n",
      "Y\n",
      "o\n",
      "u\n",
      " \n",
      "a\n",
      "r\n",
      "e\n",
      " \n",
      "r\n",
      "e\n",
      "a\n",
      "d\n",
      "i\n",
      "n\n",
      "g\n",
      " \n",
      "t\n",
      "h\n",
      "i\n",
      "s\n",
      " \n",
      "t\n",
      "e\n",
      "x\n",
      "t\n",
      " \n",
      "f\n",
      "i\n",
      "l\n",
      "e\n",
      ".\n",
      "\n",
      "\n",
      "T\n",
      "h\n",
      "i\n",
      "s\n",
      " \n",
      "f\n",
      "i\n",
      "l\n",
      "e\n",
      " \n",
      "h\n",
      "a\n",
      "s\n",
      " \n",
      "a\n",
      " \n",
      "n\n",
      "u\n",
      "m\n",
      "b\n",
      "e\n",
      "r\n",
      " \n",
      "o\n",
      "f\n",
      " \n",
      "l\n",
      "i\n",
      "n\n",
      "e\n",
      "s\n",
      " \n",
      "o\n",
      "f\n",
      " \n",
      "t\n",
      "e\n",
      "x\n",
      "t\n",
      ".\n",
      "\n",
      "\n",
      "\n",
      "\n",
      "A\n",
      "l\n",
      "s\n",
      "o\n",
      " \n",
      "s\n",
      "o\n",
      "m\n",
      "e\n",
      " \n",
      "e\n",
      "m\n",
      "p\n",
      "t\n",
      "y\n",
      " \n",
      "l\n",
      "i\n",
      "n\n",
      "e\n",
      "s\n",
      ".\n",
      "\n",
      "\n",
      "\n",
      "\n",
      "\n",
      "\n",
      "\n",
      "\n",
      "T\n",
      "h\n",
      "a\n",
      "n\n",
      "k\n",
      "s\n",
      " \n",
      "f\n",
      "o\n",
      "r\n",
      " \n",
      "r\n",
      "e\n",
      "a\n",
      "d\n",
      "i\n",
      "n\n",
      "g\n",
      "!\n"
     ]
    }
   ],
   "source": [
    "with open('test.txt','r') as f:\n",
    "    for line in f:\n",
    "        for letter in line:\n",
    "            print(letter)"
   ]
  },
  {
   "cell_type": "code",
   "execution_count": 43,
   "id": "15624019-09ea-40b5-ab04-f79cd7073e71",
   "metadata": {},
   "outputs": [],
   "source": [
    "with open('output.txt', 'w') as f:\n",
    "    f.write(\"Hello, World!\")"
   ]
  },
  {
   "cell_type": "code",
   "execution_count": 44,
   "id": "d5aadf27-9df8-48bb-a22e-d7d23d64615e",
   "metadata": {},
   "outputs": [
    {
     "name": "stdout",
     "output_type": "stream",
     "text": [
      "[0, 1, 4, 9, 16, 25, 36, 49, 64, 81, 100]\n",
      "0,1,4,9,16,25,36,49,64,81,100,\n"
     ]
    }
   ],
   "source": [
    "l = [i**2 for i in range(11)]\n",
    "print(l)\n",
    "with open('new_file.txt','w') as nf:\n",
    "    for j in l:\n",
    "        nf.write(str(j)+',')\n",
    "        \n",
    "with open('new_file.txt','r') as nf:\n",
    "    print(nf.read())"
   ]
  },
  {
   "cell_type": "code",
   "execution_count": null,
   "id": "002066c1-95b6-48a3-ac43-8d6874117d07",
   "metadata": {},
   "outputs": [],
   "source": []
  }
 ],
 "metadata": {
  "kernelspec": {
   "display_name": "Python 3 (ipykernel)",
   "language": "python",
   "name": "python3"
  },
  "language_info": {
   "codemirror_mode": {
    "name": "ipython",
    "version": 3
   },
   "file_extension": ".py",
   "mimetype": "text/x-python",
   "name": "python",
   "nbconvert_exporter": "python",
   "pygments_lexer": "ipython3",
   "version": "3.10.18"
  }
 },
 "nbformat": 4,
 "nbformat_minor": 5
}
