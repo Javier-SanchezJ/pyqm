{
 "cells": [
  {
   "cell_type": "markdown",
   "metadata": {},
   "source": [
    "# Tutorial"
   ]
  },
  {
   "cell_type": "markdown",
   "metadata": {},
   "source": [
    "## Excercise 1: Python as a Calculator\n",
    "Let us introduce the following constants\n",
    "\n",
    "<center>\n",
    "\n",
    "$h \\approx 6.62607015 \\times 10^{-34}$ J/Hz\n",
    "\n",
    "$c = 299792458$ m/s\n",
    "\n",
    "$\\pi \\approx 3.14159265$\n",
    "\n",
    "$\\hbar = \\frac{h}{2\\pi}$\n",
    "\n",
    "$e \\approx 1.60217663 \\times 10^{-19} $ C \n",
    "\n",
    "$m_e \\approx 9.10938370 \\times 10^{-31}$ kg\n",
    "\n",
    "$\\varepsilon_0 \\approx 8.85418781\\times 10^{-12}$ F/m\n",
    "\n",
    "</center>\n",
    "\n",
    "<img src=\"images/calculator.png\" alt=\"two dice\" width=\"200\"/>\n",
    "\n",
    "Save them in python as variables"
   ]
  },
  {
   "cell_type": "code",
   "execution_count": 6,
   "metadata": {
    "cell_id": "00016-a1c9d0f3-4e74-49fc-95a7-d64f44672005",
    "deepnote_cell_type": "code",
    "deepnote_to_be_reexecuted": false,
    "execution_millis": 22,
    "execution_start": 1624957808703,
    "source_hash": "fe255d1d",
    "tags": []
   },
   "outputs": [
    {
     "name": "stdout",
     "output_type": "stream",
     "text": [
      "h = 6.62607015e-34\n",
      "c = 299792458\n",
      "pi = 3.141592653589793\n",
      "hbar = 1.0545718176461565e-34\n",
      "e = 1.602176634e-19\n",
      "me = 9.1093837e-31\n",
      "ep0 = 8.8541878128e-12\n"
     ]
    }
   ],
   "source": [
    "h   = 6.62607015e-34\n",
    "c   = 299792458\n",
    "pi  = 3.141592653589793\n",
    "hbar = h / (2 * pi)\n",
    "e   = 1.602176634e-19\n",
    "me  = 9.10938370e-31\n",
    "ep0 = 8.8541878128e-12\n",
    "\n",
    "print(\"h =\", h)\n",
    "print(\"c =\", c)\n",
    "print(\"pi =\", pi)\n",
    "print(\"hbar =\", hbar)\n",
    "print(\"e =\", e)\n",
    "print(\"me =\", me)\n",
    "print(\"ep0 =\", ep0)"
   ]
  },
  {
   "cell_type": "markdown",
   "metadata": {},
   "source": [
    "Put them in a data structure. \n",
    "\n",
    "*Think about what might be best...*"
   ]
  },
  {
   "cell_type": "code",
   "execution_count": 7,
   "metadata": {},
   "outputs": [],
   "source": [
    "const = {\n",
    "    'h': h,\n",
    "    'c': c,\n",
    "    'pi': pi,\n",
    "    'hbar': hbar,\n",
    "    'e': e,\n",
    "    'me': me,\n",
    "    'ep0': ep0\n",
    "}"
   ]
  },
  {
   "cell_type": "markdown",
   "metadata": {},
   "source": [
    "Check that this in fact works."
   ]
  },
  {
   "cell_type": "code",
   "execution_count": 8,
   "metadata": {},
   "outputs": [
    {
     "name": "stdout",
     "output_type": "stream",
     "text": [
      "const['h'] = 6.62607015e-34\n",
      "const['hbar'] = 1.0545718176461565e-34\n",
      "recalculate h/(2*pi) = 1.0545718176461565e-34\n",
      "Are they the same? -> True\n"
     ]
    }
   ],
   "source": [
    "print(\"const['h'] =\", const['h'])\n",
    "print(\"const['hbar'] =\", const['hbar'])\n",
    "print(\"recalculate h/(2*pi) =\", const['h'] / (2 * const['pi']))\n",
    "print(\"Are they the same? ->\", abs(const['hbar'] - const['h']/(2*const['pi'])) < 1e-40)"
   ]
  },
  {
   "cell_type": "markdown",
   "metadata": {},
   "source": [
    "Use these to calculate the fine structure constant,\n",
    "$$\\alpha = \\frac{1}{4 \\pi \\varepsilon_0} \\frac{e^2}{\\hbar c}$$"
   ]
  },
  {
   "cell_type": "code",
   "execution_count": 9,
   "metadata": {},
   "outputs": [
    {
     "name": "stdout",
     "output_type": "stream",
     "text": [
      "alpha = 0.00729735256927803\n",
      "1/alpha ≈ 137.03599908410837\n"
     ]
    }
   ],
   "source": [
    "alpha = (1 / (4 * const['pi'] * const['ep0'])) * (const['e'] ** 2) / (const['hbar'] * const['c'])\n",
    "print(\"alpha =\", alpha)\n",
    "print(\"1/alpha ≈\", 1 / alpha)"
   ]
  },
  {
   "cell_type": "markdown",
   "metadata": {},
   "source": [
    "## Exercise 2: Nested Lists and Matrices\n",
    "\n",
    "Take the matrix\n",
    "\n",
    "$$A = \\begin{bmatrix}\n",
    "3.14 & 42 \\\\ 2.71&11\n",
    "\\end{bmatrix}$$\n",
    "\n",
    "Using nested lists as a matrix representation, find and print it's determinant, then find and print it's inverse."
   ]
  },
  {
   "cell_type": "code",
   "execution_count": 10,
   "metadata": {},
   "outputs": [
    {
     "name": "stdout",
     "output_type": "stream",
     "text": [
      "det(A) = -79.28\n",
      "inv(A) =\n",
      "[-0.13874873864783047, 0.5297679112008072]\n",
      "[0.03418264379414732, -0.03960645812310797]\n"
     ]
    }
   ],
   "source": [
    "A = [[3.14, 42],\n",
    "     [2.71, 11]]\n",
    "\n",
    "det = A[0][0]*A[1][1] - A[0][1]*A[1][0]\n",
    "print(\"det(A) =\", det)\n",
    "\n",
    "if abs(det) < 1e-12:\n",
    "    print(\"Singular matrix (det ≈ 0).\")\n",
    "else:\n",
    "    invA = [[ A[1][1]/det, -A[0][1]/det],\n",
    "            [-A[1][0]/det,  A[0][0]/det]]\n",
    "    print(\"inv(A) =\")\n",
    "    for row in invA:\n",
    "        print(row)"
   ]
  },
  {
   "cell_type": "markdown",
   "metadata": {},
   "source": [
    "## Exercise 3: What is True and/or False?\n",
    "Discuss and think about the following statements and see if you can predict what will happen.\n",
    "\n",
    "First we will start with casting numbers to Boolean values.\n",
    "- ``` bool(0) ```\n",
    "- ``` bool(1) ```\n",
    "- ``` bool(0.0) ```\n",
    "- ``` bool(1.0) ```\n",
    "- ``` bool(24) ```\n",
    "- ``` bool(-76.2) ```"
   ]
  },
  {
   "cell_type": "code",
   "execution_count": 11,
   "metadata": {},
   "outputs": [
    {
     "name": "stdout",
     "output_type": "stream",
     "text": [
      "bool(0)    -> False\n",
      "bool(1)    -> True\n",
      "bool(0.0)  -> False\n",
      "bool(1.0)  -> True\n",
      "bool(24)   -> True\n",
      "bool(-76.2)-> True\n"
     ]
    }
   ],
   "source": [
    "print(\"bool(0)    ->\", bool(0))\n",
    "print(\"bool(1)    ->\", bool(1))\n",
    "print(\"bool(0.0)  ->\", bool(0.0))\n",
    "print(\"bool(1.0)  ->\", bool(1.0))\n",
    "print(\"bool(24)   ->\", bool(24))\n",
    "print(\"bool(-76.2)->\", bool(-76.2))"
   ]
  },
  {
   "cell_type": "markdown",
   "metadata": {},
   "source": [
    "We can do the same thing with strings.\n",
    "- ``` bool('') ```\n",
    "- ``` bool('hello') ```"
   ]
  },
  {
   "cell_type": "code",
   "execution_count": 12,
   "metadata": {},
   "outputs": [
    {
     "name": "stdout",
     "output_type": "stream",
     "text": [
      "bool('')      -> False\n",
      "bool('hello') -> True\n"
     ]
    }
   ],
   "source": [
    "print(\"bool('')      ->\", bool(''))\n",
    "print(\"bool('hello') ->\", bool('hello'))"
   ]
  },
  {
   "cell_type": "markdown",
   "metadata": {},
   "source": [
    "We can cast data structures into Boolean.\n",
    "- ``` bool([]) ```\n",
    "- ``` bool({}) ```\n",
    "- ``` bool() ```\n",
    "- ``` bool((1)) ```\n",
    "- ``` bool([5,6,1]) ```\n",
    "- ``` bool({'hello',2.5,9}) ```\n",
    "- ``` bool({}) ```"
   ]
  },
  {
   "cell_type": "code",
   "execution_count": 13,
   "metadata": {},
   "outputs": [
    {
     "name": "stdout",
     "output_type": "stream",
     "text": [
      "bool([]) -> False\n",
      "bool({}) -> False\n",
      "bool(()) -> False\n",
      "bool((1)) -> True\n",
      "bool([5,6,1]) -> True\n",
      "bool({'hello',2.5,9}) -> True\n"
     ]
    }
   ],
   "source": [
    "examples = {\n",
    "    \"bool([])\": bool([]),\n",
    "    \"bool({})\": bool({}),\n",
    "    \"bool(())\": bool(()),\n",
    "    \"bool((1))\": bool((1)),     # (1) es simplemente 1\n",
    "    \"bool([5,6,1])\": bool([5,6,1]),\n",
    "    \"bool({'hello',2.5,9})\": bool({'hello',2.5,9})\n",
    "}\n",
    "\n",
    "for expr, val in examples.items():\n",
    "    print(f\"{expr} -> {val}\")"
   ]
  },
  {
   "cell_type": "markdown",
   "metadata": {},
   "source": [
    "Can we cast `None`?\n",
    "- ``` bool(None) ```"
   ]
  },
  {
   "cell_type": "code",
   "execution_count": 14,
   "metadata": {},
   "outputs": [
    {
     "name": "stdout",
     "output_type": "stream",
     "text": [
      "bool(None) -> False\n"
     ]
    }
   ],
   "source": [
    "print(\"bool(None) ->\", bool(None))"
   ]
  },
  {
   "cell_type": "markdown",
   "metadata": {},
   "source": [
    "When we use `not` it casts the proceeding value into boolean.\n",
    "- ``` not True ```\n",
    "- ``` not False ```\n",
    "- ``` not 1 ```\n",
    "- ``` not 0.0 ```\n",
    "- ``` not 72 ```\n",
    "- ``` not -17.3 ```\n",
    "- ``` not '' ```\n",
    "- ``` not \"hi\" ```\n",
    "- ``` not () ```\n",
    "- ``` not None ```"
   ]
  },
  {
   "cell_type": "code",
   "execution_count": 15,
   "metadata": {},
   "outputs": [
    {
     "name": "stdout",
     "output_type": "stream",
     "text": [
      "not True   -> False\n",
      "not False  -> True\n",
      "not 1      -> False\n",
      "not 0.0    -> True\n",
      "not 72     -> False\n",
      "not -17.3  -> False\n",
      "not ''     -> True\n",
      "not \"hi\"   -> False\n",
      "not ()     -> True\n"
     ]
    }
   ],
   "source": [
    "print(\"not True   ->\", not True)\n",
    "print(\"not False  ->\", not False)\n",
    "print(\"not 1      ->\", not 1)\n",
    "print(\"not 0.0    ->\", not 0.0)\n",
    "print(\"not 72     ->\", not 72)\n",
    "print(\"not -17.3  ->\", not -17.3)\n",
    "print(\"not ''     ->\", not '')\n",
    "print('not \"hi\"   ->', not \"hi\")\n",
    "print(\"not ()     ->\", not ())"
   ]
  },
  {
   "cell_type": "markdown",
   "metadata": {},
   "source": [
    "And we can use two `not`s\n",
    "- ```not not True```\n",
    "- ```not not False```\n",
    "- ```not not {2,4}```"
   ]
  },
  {
   "cell_type": "code",
   "execution_count": 16,
   "metadata": {},
   "outputs": [
    {
     "name": "stdout",
     "output_type": "stream",
     "text": [
      "not not True    -> True\n",
      "not not False   -> False\n",
      "not not {2,4}   -> True\n"
     ]
    }
   ],
   "source": [
    "print(\"not not True    ->\", not not True)\n",
    "print(\"not not False   ->\", not not False)\n",
    "print(\"not not {2,4}   ->\", not not {2,4})"
   ]
  },
  {
   "cell_type": "markdown",
   "metadata": {},
   "source": [
    "We will move on and look at `and`.\n",
    "- ```True and True```\n",
    "- ```True and False```\n",
    "- ```False and True```\n",
    "- ```False and False```"
   ]
  },
  {
   "cell_type": "code",
   "execution_count": 17,
   "metadata": {},
   "outputs": [
    {
     "name": "stdout",
     "output_type": "stream",
     "text": [
      "True and True   -> True\n",
      "True and False  -> False\n",
      "False and True  -> False\n",
      "False and False -> False\n"
     ]
    }
   ],
   "source": [
    "print(\"True and True   ->\", True and True)\n",
    "print(\"True and False  ->\", True and False)\n",
    "print(\"False and True  ->\", False and True)\n",
    "print(\"False and False ->\", False and False)"
   ]
  },
  {
   "cell_type": "markdown",
   "metadata": {},
   "source": [
    "But what happens when we using things that aren't Boolean?\n",
    "- ```False and 'hello'```\n",
    "- ```'hello' and False```\n",
    "- ```'hello' and True```\n",
    "- ```True and 'hello'```"
   ]
  },
  {
   "cell_type": "code",
   "execution_count": 18,
   "metadata": {},
   "outputs": [
    {
     "name": "stdout",
     "output_type": "stream",
     "text": [
      "False and 'hello' -> False\n",
      "'hello' and False -> False\n",
      "'hello' and True  -> True\n",
      "True and 'hello'  -> hello\n"
     ]
    }
   ],
   "source": [
    "print(\"False and 'hello' ->\", False and 'hello')\n",
    "print(\"'hello' and False ->\", 'hello' and False)\n",
    "print(\"'hello' and True  ->\", 'hello' and True)\n",
    "print(\"True and 'hello'  ->\", True and 'hello')"
   ]
  },
  {
   "cell_type": "markdown",
   "metadata": {},
   "source": [
    "That's a little strange... Lets see what else we can do!\n",
    "- ```None and {}```\n",
    "- ```'' and True```\n",
    "- ```25 and {25}```\n",
    "- ```{0} and 0```"
   ]
  },
  {
   "cell_type": "code",
   "execution_count": 19,
   "metadata": {},
   "outputs": [
    {
     "name": "stdout",
     "output_type": "stream",
     "text": [
      "None and {}   -> None\n",
      "'' and True   -> \n",
      "25 and {25}   -> {25}\n",
      "{0} and 0     -> 0\n"
     ]
    }
   ],
   "source": [
    "print(\"None and {}   ->\", None and {})\n",
    "print(\"'' and True   ->\", '' and True)\n",
    "print(\"25 and {25}   ->\", 25 and {25})\n",
    "print(\"{0} and 0     ->\", {0} and 0)"
   ]
  },
  {
   "cell_type": "markdown",
   "metadata": {},
   "source": [
    "Lets try with `or`.\n",
    "- ```None or {}```\n",
    "- ```'' or True```\n",
    "- ```25 or {25}```\n",
    "- ```{0} or 0```"
   ]
  },
  {
   "cell_type": "code",
   "execution_count": 20,
   "metadata": {},
   "outputs": [
    {
     "name": "stdout",
     "output_type": "stream",
     "text": [
      "None or {}    -> {}\n",
      "'' or True    -> True\n",
      "25 or {25}    -> 25\n",
      "{0} or 0      -> {0}\n"
     ]
    }
   ],
   "source": [
    "print(\"None or {}    ->\", None or {})\n",
    "print(\"'' or True    ->\", '' or True)\n",
    "print(\"25 or {25}    ->\", 25 or {25})\n",
    "print(\"{0} or 0      ->\", {0} or 0)"
   ]
  },
  {
   "cell_type": "markdown",
   "metadata": {},
   "source": [
    "Finally, we can also play with operator presidence.\n",
    "- ```not (True or False) or 'hello'```\n",
    "- ```'first' and 'second' or False```\n",
    "- ```False or not None and 1+0*2-1```\n",
    "- ```(0) or not 0```\n",
    "- ```(0,) or not 0```"
   ]
  },
  {
   "cell_type": "code",
   "execution_count": 21,
   "metadata": {},
   "outputs": [
    {
     "name": "stdout",
     "output_type": "stream",
     "text": [
      "not (True or False) or 'hello' -> hello\n",
      "'first' and 'second' or False -> second\n",
      "False or not None and 1+0*2-1 -> 0\n",
      "(0) or not 0 -> True\n",
      "(0,) or not 0 -> (0,)\n"
     ]
    }
   ],
   "source": [
    "print(\"not (True or False) or 'hello' ->\", not (True or False) or 'hello')\n",
    "print(\"'first' and 'second' or False ->\", ('first' and 'second') or False)\n",
    "print(\"False or not None and 1+0*2-1 ->\", False or (not None) and (1+0*2-1))\n",
    "print(\"(0) or not 0 ->\", (0) or (not 0))\n",
    "print(\"(0,) or not 0 ->\", (0,) or (not 0))"
   ]
  },
  {
   "cell_type": "markdown",
   "metadata": {},
   "source": [
    "## Exercise 4: Periodic Function\n",
    "Observe the following function, used in the famous Schor's algorithm.\n",
    "$$ f(x) = a^x mod N$$\n",
    "This function is periodic, with $r$ being the smallest(non-zero) integer such that\n",
    "$$ a^r mod N = 1$$\n",
    "Let $a=2$ and $N=31$. \n",
    "Create a list that contains the values of this function for $x=0,1,...,10.$\n",
    "<img src=\"images/Shor's_algorithm.png\" alt=\"two dice\" width=\"700\"/>"
   ]
  },
  {
   "cell_type": "code",
   "execution_count": 22,
   "metadata": {},
   "outputs": [
    {
     "name": "stdout",
     "output_type": "stream",
     "text": [
      "[1, 2, 4, 8, 16, 1, 2, 4, 8, 16, 1]\n"
     ]
    }
   ],
   "source": [
    "List = [] #Creating an empty list\n",
    "\n",
    "List.append((2**0)%31)\n",
    "List.append((2**1)%31)\n",
    "List.append((2**2)%31)\n",
    "List.append((2**3)%31)\n",
    "List.append((2**4)%31)\n",
    "List.append((2**5)%31)\n",
    "List.append((2**6)%31)\n",
    "List.append((2**7)%31)\n",
    "List.append((2**8)%31)\n",
    "List.append((2**9)%31)\n",
    "List.append((2**10)%31)\n",
    "\n",
    "print(List)"
   ]
  },
  {
   "cell_type": "markdown",
   "metadata": {},
   "source": [
    "Using this list or otherwise, observe and print the value of r."
   ]
  },
  {
   "cell_type": "code",
   "execution_count": 24,
   "metadata": {},
   "outputs": [
    {
     "name": "stdout",
     "output_type": "stream",
     "text": [
      "r = 5\n"
     ]
    }
   ],
   "source": [
    "for k in range(1, 20):\n",
    "    if pow(2, k, 31) == 1:\n",
    "        r = k\n",
    "        break\n",
    "\n",
    "print(\"r =\", r)"
   ]
  },
  {
   "cell_type": "markdown",
   "metadata": {},
   "source": [
    "Now convert this list to a set and print it to observe the values taken by the function in a single period."
   ]
  },
  {
   "cell_type": "code",
   "execution_count": 26,
   "metadata": {},
   "outputs": [
    {
     "name": "stdout",
     "output_type": "stream",
     "text": [
      "Values in a single period: {1, 2, 4, 8, 16}\n"
     ]
    }
   ],
   "source": [
    "values = set(List)\n",
    "print(\"Values in a single period:\", values)"
   ]
  },
  {
   "cell_type": "code",
   "execution_count": null,
   "metadata": {},
   "outputs": [],
   "source": []
  }
 ],
 "metadata": {
  "deepnote": {
   "is_reactive": false
  },
  "deepnote_execution_queue": [],
  "deepnote_notebook_id": "eb07da20-6aaf-4886-88b4-49188e0c1ab1",
  "kernelspec": {
   "display_name": "Python 3 (ipykernel)",
   "language": "python",
   "name": "python3"
  },
  "language_info": {
   "codemirror_mode": {
    "name": "ipython",
    "version": 3
   },
   "file_extension": ".py",
   "mimetype": "text/x-python",
   "name": "python",
   "nbconvert_exporter": "python",
   "pygments_lexer": "ipython3",
   "version": "3.10.18"
  }
 },
 "nbformat": 4,
 "nbformat_minor": 4
}
